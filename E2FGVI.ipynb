{
  "nbformat": 4,
  "nbformat_minor": 0,
  "metadata": {
    "colab": {
      "name": "E2FGVI .ipynb",
      "provenance": [],
      "authorship_tag": "ABX9TyMLDHeAbK27PGxoKcUiJXAb",
      "include_colab_link": true
    },
    "kernelspec": {
      "name": "python3",
      "display_name": "Python 3"
    },
    "language_info": {
      "name": "python"
    }
  },
  "cells": [
    {
      "cell_type": "markdown",
      "metadata": {
        "id": "view-in-github",
        "colab_type": "text"
      },
      "source": [
        "<a href=\"https://colab.research.google.com/github/0x7o/0x7o/blob/main/E2FGVI.ipynb\" target=\"_parent\"><img src=\"https://colab.research.google.com/assets/colab-badge.svg\" alt=\"Open In Colab\"/></a>"
      ]
    },
    {
      "cell_type": "code",
      "execution_count": null,
      "metadata": {
        "cellView": "form",
        "id": "vBa7zkAFxAi-"
      },
      "outputs": [],
      "source": [
        "#@title Подготовка библиотек\n",
        "#@markdown Это займёт некоторое время. Подождите\n",
        "\n",
        "# установка PyTorch\n",
        "!pip install torch==1.5.1+cu101 torchvision==0.6.1+cu101 -f https://download.pytorch.org/whl/torch_stable.html \n",
        "!pip install mmcv-full -f https://download.openmmlab.com/mmcv/dist/cu101/torch1.5/index.html\n",
        "\n",
        "# клонирование репозитория GitHub\n",
        "import os\n",
        "CODE_DIR = 'E2FGVI'\n",
        "os.makedirs(f'./{CODE_DIR}')\n",
        "!git clone https://github.com/MCG-NKU/E2FGVI.git $CODE_DIR\n",
        "os.chdir(f'./{CODE_DIR}')"
      ]
    },
    {
      "cell_type": "code",
      "source": [
        "#@title Скачиваем ИИ\n",
        "#@markdown Загрузим чекпоинт с Google Drive\n",
        "!gdown \"https://drive.google.com/u/0/uc?id=10wGdKSUOie0XmCr8SQ2A2FeDe-mfn5w3&export=download&confirm=t\""
      ],
      "metadata": {
        "colab": {
          "base_uri": "https://localhost:8080/"
        },
        "cellView": "form",
        "id": "XDZ1rBsWyYkO",
        "outputId": "d7498e8a-032c-4d7b-fc60-14f01e98ae30"
      },
      "execution_count": 3,
      "outputs": [
        {
          "output_type": "stream",
          "name": "stdout",
          "text": [
            "Downloading...\n",
            "From: https://drive.google.com/u/0/uc?id=10wGdKSUOie0XmCr8SQ2A2FeDe-mfn5w3&export=download&confirm=t\n",
            "To: /content/E2FGVI/E2FGVI-HQ-CVPR22.pth\n",
            "100% 165M/165M [00:01<00:00, 91.9MB/s]\n"
          ]
        }
      ]
    },
    {
      "cell_type": "code",
      "source": [
        "!python test.py --model e2fgvi_hq --video examples/tennis --mask examples/tennis_mask  --ckpt /content/E2FGVI/E2FGVI-HQ-CVPR22.pth"
      ],
      "metadata": {
        "colab": {
          "base_uri": "https://localhost:8080/"
        },
        "id": "A62fGuB7y725",
        "outputId": "116cf6d7-b5db-4433-914f-88772696bf09"
      },
      "execution_count": 4,
      "outputs": [
        {
          "output_type": "stream",
          "name": "stdout",
          "text": [
            "No CUDA runtime is found, using CUDA_HOME='/usr/local/cuda'\n",
            "load pretrained SPyNet...\n",
            "load checkpoint from http path: https://download.openmmlab.com/mmediting/restorers/basicvsr/spynet_20210409-c6c1bd09.pth\n",
            "Downloading: \"https://download.openmmlab.com/mmediting/restorers/basicvsr/spynet_20210409-c6c1bd09.pth\" to /root/.cache/torch/checkpoints/spynet_20210409-c6c1bd09.pth\n",
            "100% 5.50M/5.50M [00:00<00:00, 44.6MB/s]\n",
            "Loading model from: /content/E2FGVI/E2FGVI-HQ-CVPR22.pth\n",
            "Loading videos and masks from: examples/tennis | INPUT MP4 format: False\n",
            "Start test...\n",
            "  0% 0/14 [00:14<?, ?it/s]\n",
            "Traceback (most recent call last):\n",
            "  File \"test.py\", line 224, in <module>\n",
            "    main_worker()\n",
            "  File \"test.py\", line 166, in main_worker\n",
            "    pred_imgs, _ = model(masked_imgs, len(neighbor_ids))\n",
            "  File \"/usr/local/lib/python3.7/dist-packages/torch/nn/modules/module.py\", line 550, in __call__\n",
            "    result = self.forward(*input, **kwargs)\n",
            "  File \"/content/E2FGVI/model/e2fgvi_hq.py\", line 250, in forward\n",
            "    pred_flows[1])\n",
            "  File \"/usr/local/lib/python3.7/dist-packages/torch/nn/modules/module.py\", line 550, in __call__\n",
            "    result = self.forward(*input, **kwargs)\n",
            "  File \"/content/E2FGVI/model/modules/feat_prop.py\", line 129, in forward\n",
            "    flow_n2)\n",
            "  File \"/usr/local/lib/python3.7/dist-packages/torch/nn/modules/module.py\", line 550, in __call__\n",
            "    result = self.forward(*input, **kwargs)\n",
            "  File \"/content/E2FGVI/model/modules/feat_prop.py\", line 58, in forward\n",
            "    self.deform_groups)\n",
            "  File \"/usr/local/lib/python3.7/dist-packages/mmcv/ops/modulated_deform_conv.py\", line 93, in forward\n",
            "    with_bias=ctx.with_bias)\n",
            "KeyboardInterrupt\n"
          ]
        }
      ]
    }
  ]
}